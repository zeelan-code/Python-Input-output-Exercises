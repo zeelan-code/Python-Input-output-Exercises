{
 "cells": [
  {
   "cell_type": "markdown",
   "id": "5dc55932",
   "metadata": {},
   "source": [
    "# Exercise 6: Write all content of a given file into a new file by skipping line number 5"
   ]
  },
  {
   "cell_type": "raw",
   "id": "a8cf86ec",
   "metadata": {},
   "source": [
    "Create a test.txt file and add the below content to it.\n",
    "\n",
    "Given test.txt file:\n",
    "\n",
    "line1\n",
    "line2\n",
    "line3\n",
    "line4\n",
    "line5\n",
    "line6\n",
    "line7\n",
    "\n",
    "Expected Output: new_file.txt\n",
    "\n",
    "line1\n",
    "line2\n",
    "line3\n",
    "line4\n",
    "line6\n",
    "line7"
   ]
  },
  {
   "cell_type": "code",
   "execution_count": 6,
   "id": "d6bd3f4a",
   "metadata": {},
   "outputs": [
    {
     "name": "stdout",
     "output_type": "stream",
     "text": [
      "line1\n",
      "line2\n",
      "line3\n",
      "line4\n",
      "line5\n",
      "line6\n",
      "line7\n"
     ]
    }
   ],
   "source": [
    "with open('test.txt','r') as f:\n",
    "    print(f.read())"
   ]
  },
  {
   "cell_type": "code",
   "execution_count": 18,
   "id": "4ffbd5ab",
   "metadata": {},
   "outputs": [
    {
     "name": "stdout",
     "output_type": "stream",
     "text": [
      "line1\n",
      "line2\n",
      "line3\n",
      "line5\n",
      "line6\n",
      "line7\n"
     ]
    }
   ],
   "source": [
    "with open('test.txt','r') as fp:\n",
    "    lines=fp.readlines()\n",
    "\n",
    "with open('new_file.txt','w') as fp:\n",
    "    count=1\n",
    "    for line in lines:\n",
    "        if count==4:\n",
    "            count+=1\n",
    "            continue\n",
    "        else:\n",
    "            fp.write(line)\n",
    "            \n",
    "        count+=1\n",
    "\n",
    "with open('new_file.txt','r') as fp:\n",
    "    print(fp.read())"
   ]
  },
  {
   "cell_type": "code",
   "execution_count": null,
   "id": "521aebdc",
   "metadata": {},
   "outputs": [],
   "source": []
  },
  {
   "cell_type": "code",
   "execution_count": null,
   "id": "50cb5b5b",
   "metadata": {},
   "outputs": [],
   "source": []
  }
 ],
 "metadata": {
  "kernelspec": {
   "display_name": "Python 3 (ipykernel)",
   "language": "python",
   "name": "python3"
  },
  "language_info": {
   "codemirror_mode": {
    "name": "ipython",
    "version": 3
   },
   "file_extension": ".py",
   "mimetype": "text/x-python",
   "name": "python",
   "nbconvert_exporter": "python",
   "pygments_lexer": "ipython3",
   "version": "3.9.12"
  }
 },
 "nbformat": 4,
 "nbformat_minor": 5
}
