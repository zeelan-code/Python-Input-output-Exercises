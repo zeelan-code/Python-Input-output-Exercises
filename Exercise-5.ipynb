{
 "cells": [
  {
   "cell_type": "markdown",
   "id": "c3dd434b",
   "metadata": {},
   "source": [
    "# Exercise 5: Accept a list of 5 float numbers as an input from the user"
   ]
  },
  {
   "cell_type": "code",
   "execution_count": 2,
   "id": "8a5fe1ac",
   "metadata": {},
   "outputs": [
    {
     "name": "stdout",
     "output_type": "stream",
     "text": [
      "Enter the number to be added at position 0 :\n",
      "12\n",
      "Enter the number to be added at position 1 :\n",
      "23\n",
      "Enter the number to be added at position 2 :\n",
      "34\n",
      "Enter the number to be added at position 3 :\n",
      "45\n",
      "Enter the number to be added at position 4 :\n",
      "56\n",
      "\n",
      "User List: [12.0, 23.0, 34.0, 45.0, 56.0]\n"
     ]
    }
   ],
   "source": [
    "numbers=[]\n",
    "for i in range(0,5):\n",
    "    print('Enter the number to be added at position',i,':')\n",
    "    num=float(input())\n",
    "    numbers.append(num)\n",
    "print()\n",
    "print('User List:',numbers)"
   ]
  },
  {
   "cell_type": "code",
   "execution_count": null,
   "id": "8fe21b93",
   "metadata": {},
   "outputs": [],
   "source": []
  }
 ],
 "metadata": {
  "kernelspec": {
   "display_name": "Python 3 (ipykernel)",
   "language": "python",
   "name": "python3"
  },
  "language_info": {
   "codemirror_mode": {
    "name": "ipython",
    "version": 3
   },
   "file_extension": ".py",
   "mimetype": "text/x-python",
   "name": "python",
   "nbconvert_exporter": "python",
   "pygments_lexer": "ipython3",
   "version": "3.9.12"
  }
 },
 "nbformat": 4,
 "nbformat_minor": 5
}
