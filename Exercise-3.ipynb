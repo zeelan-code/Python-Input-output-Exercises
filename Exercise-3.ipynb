{
 "cells": [
  {
   "cell_type": "markdown",
   "id": "52ffa349",
   "metadata": {},
   "source": [
    "# Exercise 3: Convert Decimal number to octal using print() output formatting"
   ]
  },
  {
   "cell_type": "markdown",
   "id": "813f1493",
   "metadata": {},
   "source": [
    "Given:\n",
    "\n",
    "num = 8\n",
    "Expected Output:\n",
    "\n",
    "The octal number of decimal number 8 is 10"
   ]
  },
  {
   "cell_type": "code",
   "execution_count": 4,
   "id": "5cfb55cb",
   "metadata": {},
   "outputs": [
    {
     "name": "stdout",
     "output_type": "stream",
     "text": [
      "The octal nummber of 8 is 10\n"
     ]
    }
   ],
   "source": [
    "num=8\n",
    "print(\"The octal nummber of\",num,'is %o' %num)"
   ]
  },
  {
   "cell_type": "code",
   "execution_count": null,
   "id": "312d320d",
   "metadata": {},
   "outputs": [],
   "source": []
  }
 ],
 "metadata": {
  "kernelspec": {
   "display_name": "Python 3 (ipykernel)",
   "language": "python",
   "name": "python3"
  },
  "language_info": {
   "codemirror_mode": {
    "name": "ipython",
    "version": 3
   },
   "file_extension": ".py",
   "mimetype": "text/x-python",
   "name": "python",
   "nbconvert_exporter": "python",
   "pygments_lexer": "ipython3",
   "version": "3.9.12"
  }
 },
 "nbformat": 4,
 "nbformat_minor": 5
}
