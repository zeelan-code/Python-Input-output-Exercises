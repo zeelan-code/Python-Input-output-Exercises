{
 "cells": [
  {
   "cell_type": "markdown",
   "id": "f092d86e",
   "metadata": {},
   "source": [
    "# Exercise 1: Accept numbers from a user"
   ]
  },
  {
   "cell_type": "markdown",
   "id": "4a415a8d",
   "metadata": {},
   "source": [
    "Write a program to accept two numbers from the user and calculate multiplication"
   ]
  },
  {
   "cell_type": "code",
   "execution_count": 2,
   "id": "48fd29be",
   "metadata": {},
   "outputs": [
    {
     "name": "stdout",
     "output_type": "stream",
     "text": [
      "Enter first Number: 12\n",
      "Enter second Number: 5\n",
      "Product of two numbers is: 60\n"
     ]
    }
   ],
   "source": [
    "number1=int(input(\"Enter first Number: \"))\n",
    "number2=int(input(\"Enter second Number: \"))\n",
    "#Multiplication of two numbers\n",
    "product=number1*number2\n",
    "#print the result\n",
    "print(\"Product of two numbers is:\", product)"
   ]
  },
  {
   "cell_type": "code",
   "execution_count": null,
   "id": "80c2a280",
   "metadata": {},
   "outputs": [],
   "source": []
  }
 ],
 "metadata": {
  "kernelspec": {
   "display_name": "Python 3 (ipykernel)",
   "language": "python",
   "name": "python3"
  },
  "language_info": {
   "codemirror_mode": {
    "name": "ipython",
    "version": 3
   },
   "file_extension": ".py",
   "mimetype": "text/x-python",
   "name": "python",
   "nbconvert_exporter": "python",
   "pygments_lexer": "ipython3",
   "version": "3.9.12"
  }
 },
 "nbformat": 4,
 "nbformat_minor": 5
}
